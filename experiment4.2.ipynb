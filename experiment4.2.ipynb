{
  "nbformat": 4,
  "nbformat_minor": 0,
  "metadata": {
    "colab": {
      "provenance": [],
      "authorship_tag": "ABX9TyMLma+ny6RHeN9KfN0NXvLE",
      "include_colab_link": true
    },
    "kernelspec": {
      "name": "python3",
      "display_name": "Python 3"
    },
    "language_info": {
      "name": "python"
    }
  },
  "cells": [
    {
      "cell_type": "markdown",
      "metadata": {
        "id": "view-in-github",
        "colab_type": "text"
      },
      "source": [
        "<a href=\"https://colab.research.google.com/github/kalyankargouri/ANN/blob/main/experiment4.2.ipynb\" target=\"_parent\"><img src=\"https://colab.research.google.com/assets/colab-badge.svg\" alt=\"Open In Colab\"/></a>"
      ]
    },
    {
      "cell_type": "code",
      "execution_count": 7,
      "metadata": {
        "colab": {
          "base_uri": "https://localhost:8080/"
        },
        "id": "boQa5t5a0Cgh",
        "outputId": "87e0f072-c2af-4d77-92a2-71731397c2c7"
      },
      "outputs": [
        {
          "output_type": "stream",
          "name": "stdout",
          "text": [
            "Predictions: [1 1]\n"
          ]
        }
      ],
      "source": [
        "import numpy as np\n",
        "\n",
        "# Step function as activation function\n",
        "def step_function(x):\n",
        "    return 1 if x >= 0 else 0\n",
        "\n",
        "# Perceptron model\n",
        "class Perceptron:\n",
        "    def __init__(self, learning_rate=0.1, epochs=1000):\n",
        "        self.learning_rate = learning_rate\n",
        "        self.epochs = epochs\n",
        "        self.weights = None\n",
        "        self.bias = None\n",
        "\n",
        "    def fit(self, X, y):\n",
        "        num_features = X.shape[1]\n",
        "        self.weights = np.zeros(num_features)  # Initialize weights to zeros\n",
        "        self.bias = 0  # Initialize bias to zero\n",
        "\n",
        "        for _ in range(self.epochs):\n",
        "            for i in range(len(X)):\n",
        "                y_pred = step_function(np.dot(X[i], self.weights) + self.bias)\n",
        "                update = self.learning_rate * (y[i] - y_pred)\n",
        "                self.weights += update * X[i]\n",
        "                self.bias += update\n",
        "\n",
        "    def predict(self, X):\n",
        "        return np.array([step_function(np.dot(x, self.weights) + self.bias) for x in X])\n",
        "\n",
        "# Sample dataset: [credit_score, annual_income, previous_loan_defaults (1 or 0)]\n",
        "X = np.array([\n",
        "    [750, 50000, 0],\n",
        "    [600, 30000, 1],\n",
        "    [800, 70000, 0],\n",
        "    [550, 20000, 1],\n",
        "    [720, 65000, 0],\n",
        "    [580, 25000, 1]\n",
        "])\n",
        "y = np.array([1, 0, 1, 0, 1, 0])  # 1: Loan Approved, 0: Loan Denied\n",
        "\n",
        "# Train perceptron\n",
        "perceptron = Perceptron(learning_rate=0.1, epochs=10)\n",
        "perceptron.fit(X, y)\n",
        "\n",
        "# Test new loan applicants\n",
        "X_test = np.array([\n",
        "    [700, 55000, 0],  # Likely approved\n",
        "    [590, 28000, 1]   # Likely denied\n",
        "])\n",
        "\n",
        "predictions = perceptron.predict(X_test)\n",
        "print(\"Predictions:\", predictions)\n"
      ]
    }
  ]
}