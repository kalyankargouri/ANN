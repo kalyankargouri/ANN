{
  "nbformat": 4,
  "nbformat_minor": 0,
  "metadata": {
    "colab": {
      "provenance": [],
      "authorship_tag": "ABX9TyOy9pNS+kBsDpnLuV6w5YTZ",
      "include_colab_link": true
    },
    "kernelspec": {
      "name": "python3",
      "display_name": "Python 3"
    },
    "language_info": {
      "name": "python"
    }
  },
  "cells": [
    {
      "cell_type": "markdown",
      "metadata": {
        "id": "view-in-github",
        "colab_type": "text"
      },
      "source": [
        "<a href=\"https://colab.research.google.com/github/kalyankargouri/ANN/blob/main/experiment7.ipynb\" target=\"_parent\"><img src=\"https://colab.research.google.com/assets/colab-badge.svg\" alt=\"Open In Colab\"/></a>"
      ]
    },
    {
      "cell_type": "code",
      "source": [
        "import numpy as np\n",
        "\n",
        "# Step 1: Dataset\n",
        "# Features: [rooms, area, location_index]\n",
        "X = np.array([\n",
        "    [2, 1200, 0.5],\n",
        "    [3, 1500, 0.7],\n",
        "    [4, 1800, 0.9],\n",
        "    [3, 1600, 0.6],\n",
        "    [5, 2000, 1.0]\n",
        "])\n",
        "\n",
        "# Target (house price)\n",
        "Y = np.array([[25000], [30000], [40000], [32000], [50000]])\n",
        "\n",
        "# Step 2: Add bias (1) to each row of X\n",
        "ones = np.ones((X.shape[0], 1))        # column of 1s\n",
        "X_b = np.hstack((ones, X))             # shape becomes (5, 4)\n",
        "\n",
        "# Step 3: Calculate weights using LLS formula\n",
        "# w = (X^T * X)^-1 * X^T * Y\n",
        "X_T = X_b.T                            # Transpose\n",
        "w = np.linalg.inv(X_T @ X_b) @ X_T @ Y\n",
        "\n",
        "# Step 4: Prediction using weights\n",
        "Y_pred = X_b @ w\n",
        "\n",
        "# Step 5: Print results\n",
        "print(\"Weights (including bias):\\n\", w)\n",
        "print(\"\\nPredicted Prices:\\n\", Y_pred)\n"
      ],
      "metadata": {
        "colab": {
          "base_uri": "https://localhost:8080/"
        },
        "id": "odblw52_FPIu",
        "outputId": "c9a0cd16-dfed-4313-e4f2-2637d7a8b5a2"
      },
      "execution_count": null,
      "outputs": [
        {
          "output_type": "stream",
          "name": "stdout",
          "text": [
            "Weights (including bias):\n",
            " [[ 2.00000000e+04]\n",
            " [ 1.56666667e+04]\n",
            " [-1.50000000e+01]\n",
            " [-1.83333333e+04]]\n",
            "\n",
            "Predicted Prices:\n",
            " [[24166.66666666]\n",
            " [31666.66666666]\n",
            " [39166.66666666]\n",
            " [31999.99999999]\n",
            " [49999.99999999]]\n"
          ]
        }
      ]
    },
    {
      "cell_type": "code",
      "source": [
        "from sklearn.linear_model import Ridge, Lasso\n",
        "from sklearn.metrics import mean_squared_error\n",
        "\n",
        "# Normalize X (so that all features are on similar scale)\n",
        "X_mean = np.mean(X, axis=0)\n",
        "X_std = np.std(X, axis=0)\n",
        "X_norm = (X - X_mean) / X_std\n",
        "\n",
        "# Ridge Regression\n",
        "ridge = Ridge(alpha=1.0)\n",
        "ridge.fit(X_norm, Y)\n",
        "Y_ridge_pred = ridge.predict(X_norm)\n",
        "\n",
        "# Lasso Regression\n",
        "lasso = Lasso(alpha=0.1)\n",
        "lasso.fit(X_norm, Y)\n",
        "Y_lasso_pred = lasso.predict(X_norm)\n",
        "\n",
        "# MSE for both\n",
        "print(\"Ridge Predicted Prices:\\n\", Y_ridge_pred)\n",
        "print(\"\\nMSE (Ridge):\", mean_squared_error(Y, Y_ridge_pred))\n",
        "print(\"\\n\")\n",
        "\n",
        "\n",
        "print(\"Lasso Predicted Prices:\\n\", Y_lasso_pred)\n",
        "print(\"\\nMSE (Lasso):\", mean_squared_error(Y, Y_lasso_pred))\n",
        "\n"
      ],
      "metadata": {
        "colab": {
          "base_uri": "https://localhost:8080/"
        },
        "id": "jBEr4qUyFU4u",
        "outputId": "61be393b-d47c-4d40-f4cd-d706a0728a91"
      },
      "execution_count": null,
      "outputs": [
        {
          "output_type": "stream",
          "name": "stdout",
          "text": [
            "Ridge Predicted Prices:\n",
            " [23970.89854524 32482.84741097 40994.79627671 32223.94014917\n",
            " 47327.51761791]\n",
            "\n",
            "MSE (Ridge): 3081102.395104151\n",
            "\n",
            "\n",
            "Lasso Predicted Prices:\n",
            " [24165.0969703  31667.36828728 39169.63960427 32000.46083013\n",
            " 49997.43430802]\n",
            "\n",
            "MSE (Lasso): 833337.0512765141\n"
          ]
        }
      ]
    },
    {
      "cell_type": "code",
      "source": [
        "# Initialize random weights and bias\n",
        "w = np.random.rand(3, 1)\n",
        "b = np.random.rand(1)\n",
        "lr = 0.01\n",
        "epochs = 1000\n",
        "\n",
        "# Gradient Descent\n",
        "for i in range(epochs):\n",
        "    y_pred = np.dot(X_norm, w) + b\n",
        "    error = y_pred - Y\n",
        "\n",
        "    dw = np.dot(X_norm.T, error) / len(Y)\n",
        "    db = np.sum(error) / len(Y)\n",
        "\n",
        "    w -= lr * dw\n",
        "    b -= lr * db\n",
        "\n",
        "\n",
        "Y_gd_pred = np.dot(X_norm, w) + b\n",
        "\n",
        "print(\"\\nGradient Descent Predicted Prices:\\n\", Y_gd_pred)\n",
        "print(\"MSE (Gradient Descent):\", mean_squared_error(Y, Y_gd_pred))"
      ],
      "metadata": {
        "colab": {
          "base_uri": "https://localhost:8080/"
        },
        "id": "OLNF3wSkFewm",
        "outputId": "8942fd23-eebf-4418-a2c6-629962ce7c2a"
      },
      "execution_count": null,
      "outputs": [
        {
          "output_type": "stream",
          "name": "stdout",
          "text": [
            "\n",
            "Gradient Descent Predicted Prices:\n",
            " [[23185.70750615]\n",
            " [32220.97737549]\n",
            " [41256.24724484]\n",
            " [32118.19095717]\n",
            " [48211.23580693]]\n",
            "MSE (Gradient Descent): 2603240.267324259\n"
          ]
        }
      ]
    }
  ]
}