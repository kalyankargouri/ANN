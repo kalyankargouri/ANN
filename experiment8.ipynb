{
  "nbformat": 4,
  "nbformat_minor": 0,
  "metadata": {
    "colab": {
      "provenance": [],
      "authorship_tag": "ABX9TyOybIST3QcVd+04w2iRYISw",
      "include_colab_link": true
    },
    "kernelspec": {
      "name": "python3",
      "display_name": "Python 3"
    },
    "language_info": {
      "name": "python"
    }
  },
  "cells": [
    {
      "cell_type": "markdown",
      "metadata": {
        "id": "view-in-github",
        "colab_type": "text"
      },
      "source": [
        "<a href=\"https://colab.research.google.com/github/kalyankargouri/ANN/blob/main/experiment8.ipynb\" target=\"_parent\"><img src=\"https://colab.research.google.com/assets/colab-badge.svg\" alt=\"Open In Colab\"/></a>"
      ]
    },
    {
      "cell_type": "code",
      "source": [
        "#implement lms\n",
        "import numpy as np\n",
        "import pandas as pd\n",
        "import matplotlib.pyplot as plt\n",
        "\n",
        "X = np.array([[1],[2],[3],[4],[5]])\n",
        "Y = np.array([[2],[4],[6],[8],[10]])\n",
        "\n",
        "# Normalize features\n",
        "X = (X - np.mean(X)) / np.std(X)\n",
        "\n",
        "# Add bias term to X\n",
        "X = np.hstack((np.ones((X.shape[0], 1)), X))  # Shape: (n_samples, 2)\n",
        "\n",
        "w = np.random.randn(2, 1)  # Initialize weights randomly\n",
        "lr = 0.01\n",
        "epochs = 160\n",
        "\n",
        "for epoch in range(epochs):\n",
        "    for i in range(X.shape[0]):\n",
        "        xi = X[i].reshape(1, -1)  # Shape: (1, 2)\n",
        "        yi = Y[i].reshape(1, -1)  # Shape: (1, 1)\n",
        "\n",
        "        y_pred = np.dot(xi, w)  # Shape: (1, 1)\n",
        "\n",
        "        error = yi - y_pred  # Shape: (1, 1)\n",
        "\n",
        "        # gradient = -2 * xi.T.dot(error)  # Shape: (2, 1)\n",
        "\n",
        "        # w -= lr * gradient\n",
        "\n",
        "        w = w + lr * xi.T * error\n",
        "\n",
        "    if epoch % 10 == 0:\n",
        "        y_all_pred = np.dot(X, w)\n",
        "        mse = np.mean((Y - y_all_pred) ** 2)\n",
        "        print(f\"Epoch {epoch}, MSE: {mse}\")\n",
        "\n",
        "print(\"\\nFinal Weights:\\n\", w)\n",
        "print(\"\\nPredictions:\")\n",
        "predictions = np.dot(X, w)\n",
        "print(predictions.round(2))"
      ],
      "metadata": {
        "colab": {
          "base_uri": "https://localhost:8080/"
        },
        "id": "FsyZM_AFF4_l",
        "outputId": "ac20aea2-847f-4793-92fa-fdd59c21508a"
      },
      "execution_count": 8,
      "outputs": [
        {
          "output_type": "stream",
          "name": "stdout",
          "text": [
            "Epoch 0, MSE: 38.00680687673067\n",
            "Epoch 10, MSE: 13.831938161725688\n",
            "Epoch 20, MSE: 5.033878366766195\n",
            "Epoch 30, MSE: 1.8319786813181458\n",
            "Epoch 40, MSE: 0.6667087079440241\n",
            "Epoch 50, MSE: 0.24263298913835568\n",
            "Epoch 60, MSE: 0.08830017690393865\n",
            "Epoch 70, MSE: 0.03213448157356334\n",
            "Epoch 80, MSE: 0.011694428855460435\n",
            "Epoch 90, MSE: 0.004255834430446293\n",
            "Epoch 100, MSE: 0.0015487753071482166\n",
            "Epoch 110, MSE: 0.0005636247914763722\n",
            "Epoch 120, MSE: 0.0002051113695042739\n",
            "Epoch 130, MSE: 7.464270186651832e-05\n",
            "Epoch 140, MSE: 2.7163325250920415e-05\n",
            "Epoch 150, MSE: 9.884995532004297e-06\n",
            "\n",
            "Final Weights:\n",
            " [[5.99818193]\n",
            " [2.82760586]]\n",
            "\n",
            "Predictions:\n",
            "[[ 2.]\n",
            " [ 4.]\n",
            " [ 6.]\n",
            " [ 8.]\n",
            " [10.]]\n"
          ]
        }
      ]
    },
    {
      "cell_type": "code",
      "source": [
        "def gradient_descent(X, Y, lr=0.01, epochs=1000):\n",
        "    weights = np.random.randn(X.shape[1], 1)\n",
        "    gd_losses = []\n",
        "\n",
        "    for epoch in range(epochs):\n",
        "        y_pred = np.dot(X, weights)\n",
        "        error = y_pred - Y\n",
        "        dw = np.dot(X.T, error) / len(X)\n",
        "        weights -= lr * dw\n",
        "\n",
        "        loss = np.mean((Y - y_pred) ** 2)\n",
        "        gd_losses.append(loss)\n",
        "\n",
        "    return weights, gd_losses\n",
        "\n",
        "w_gd, gd_loss = gradient_descent(X, Y)\n",
        "pred_gd = X @ w_gd\n",
        "print(\"GD Weights:\\n\", w_gd)\n",
        "print(\"\\nGD Predictions:\")\n",
        "print(pred_gd.round(2))"
      ],
      "metadata": {
        "colab": {
          "base_uri": "https://localhost:8080/"
        },
        "id": "MyyCy0qAGIOd",
        "outputId": "96da7be9-3cb4-43b4-dbb3-587134d9a2df"
      },
      "execution_count": 10,
      "outputs": [
        {
          "output_type": "stream",
          "name": "stdout",
          "text": [
            "GD Weights:\n",
            " [[5.99976177]\n",
            " [2.82832732]]\n",
            "\n",
            "GD Predictions:\n",
            "[[ 2.]\n",
            " [ 4.]\n",
            " [ 6.]\n",
            " [ 8.]\n",
            " [10.]]\n"
          ]
        }
      ]
    }
  ]
}