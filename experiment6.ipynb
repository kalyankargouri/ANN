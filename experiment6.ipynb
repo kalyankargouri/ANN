{
  "nbformat": 4,
  "nbformat_minor": 0,
  "metadata": {
    "colab": {
      "provenance": [],
      "authorship_tag": "ABX9TyPu30x0P1O5jT0Al75cjYPz",
      "include_colab_link": true
    },
    "kernelspec": {
      "name": "python3",
      "display_name": "Python 3"
    },
    "language_info": {
      "name": "python"
    }
  },
  "cells": [
    {
      "cell_type": "markdown",
      "metadata": {
        "id": "view-in-github",
        "colab_type": "text"
      },
      "source": [
        "<a href=\"https://colab.research.google.com/github/kalyankargouri/ANN/blob/main/experiment6.ipynb\" target=\"_parent\"><img src=\"https://colab.research.google.com/assets/colab-badge.svg\" alt=\"Open In Colab\"/></a>"
      ]
    },
    {
      "cell_type": "code",
      "execution_count": 15,
      "metadata": {
        "colab": {
          "base_uri": "https://localhost:8080/"
        },
        "id": "ZXqCXBcCz9RO",
        "outputId": "2c3f652d-4941-40c2-8737-1de30fa50ece"
      },
      "outputs": [
        {
          "output_type": "stream",
          "name": "stdout",
          "text": [
            "Requirement already satisfied: openpyxl in /usr/local/lib/python3.11/dist-packages (3.1.5)\n",
            "Requirement already satisfied: et-xmlfile in /usr/local/lib/python3.11/dist-packages (from openpyxl) (2.0.0)\n"
          ]
        }
      ],
      "source": [
        "!pip install openpyxl"
      ]
    },
    {
      "cell_type": "code",
      "source": [
        "from google.colab import files\n",
        "uploaded = files.upload()"
      ],
      "metadata": {
        "colab": {
          "base_uri": "https://localhost:8080/",
          "height": 73
        },
        "id": "CzBl5ZgX1G4O",
        "outputId": "54bcdfc5-aab4-43d2-9951-79a4fa4236a5"
      },
      "execution_count": 16,
      "outputs": [
        {
          "output_type": "display_data",
          "data": {
            "text/plain": [
              "<IPython.core.display.HTML object>"
            ],
            "text/html": [
              "\n",
              "     <input type=\"file\" id=\"files-b3dfb0eb-c152-4739-939a-f89f1022a5bd\" name=\"files[]\" multiple disabled\n",
              "        style=\"border:none\" />\n",
              "     <output id=\"result-b3dfb0eb-c152-4739-939a-f89f1022a5bd\">\n",
              "      Upload widget is only available when the cell has been executed in the\n",
              "      current browser session. Please rerun this cell to enable.\n",
              "      </output>\n",
              "      <script>// Copyright 2017 Google LLC\n",
              "//\n",
              "// Licensed under the Apache License, Version 2.0 (the \"License\");\n",
              "// you may not use this file except in compliance with the License.\n",
              "// You may obtain a copy of the License at\n",
              "//\n",
              "//      http://www.apache.org/licenses/LICENSE-2.0\n",
              "//\n",
              "// Unless required by applicable law or agreed to in writing, software\n",
              "// distributed under the License is distributed on an \"AS IS\" BASIS,\n",
              "// WITHOUT WARRANTIES OR CONDITIONS OF ANY KIND, either express or implied.\n",
              "// See the License for the specific language governing permissions and\n",
              "// limitations under the License.\n",
              "\n",
              "/**\n",
              " * @fileoverview Helpers for google.colab Python module.\n",
              " */\n",
              "(function(scope) {\n",
              "function span(text, styleAttributes = {}) {\n",
              "  const element = document.createElement('span');\n",
              "  element.textContent = text;\n",
              "  for (const key of Object.keys(styleAttributes)) {\n",
              "    element.style[key] = styleAttributes[key];\n",
              "  }\n",
              "  return element;\n",
              "}\n",
              "\n",
              "// Max number of bytes which will be uploaded at a time.\n",
              "const MAX_PAYLOAD_SIZE = 100 * 1024;\n",
              "\n",
              "function _uploadFiles(inputId, outputId) {\n",
              "  const steps = uploadFilesStep(inputId, outputId);\n",
              "  const outputElement = document.getElementById(outputId);\n",
              "  // Cache steps on the outputElement to make it available for the next call\n",
              "  // to uploadFilesContinue from Python.\n",
              "  outputElement.steps = steps;\n",
              "\n",
              "  return _uploadFilesContinue(outputId);\n",
              "}\n",
              "\n",
              "// This is roughly an async generator (not supported in the browser yet),\n",
              "// where there are multiple asynchronous steps and the Python side is going\n",
              "// to poll for completion of each step.\n",
              "// This uses a Promise to block the python side on completion of each step,\n",
              "// then passes the result of the previous step as the input to the next step.\n",
              "function _uploadFilesContinue(outputId) {\n",
              "  const outputElement = document.getElementById(outputId);\n",
              "  const steps = outputElement.steps;\n",
              "\n",
              "  const next = steps.next(outputElement.lastPromiseValue);\n",
              "  return Promise.resolve(next.value.promise).then((value) => {\n",
              "    // Cache the last promise value to make it available to the next\n",
              "    // step of the generator.\n",
              "    outputElement.lastPromiseValue = value;\n",
              "    return next.value.response;\n",
              "  });\n",
              "}\n",
              "\n",
              "/**\n",
              " * Generator function which is called between each async step of the upload\n",
              " * process.\n",
              " * @param {string} inputId Element ID of the input file picker element.\n",
              " * @param {string} outputId Element ID of the output display.\n",
              " * @return {!Iterable<!Object>} Iterable of next steps.\n",
              " */\n",
              "function* uploadFilesStep(inputId, outputId) {\n",
              "  const inputElement = document.getElementById(inputId);\n",
              "  inputElement.disabled = false;\n",
              "\n",
              "  const outputElement = document.getElementById(outputId);\n",
              "  outputElement.innerHTML = '';\n",
              "\n",
              "  const pickedPromise = new Promise((resolve) => {\n",
              "    inputElement.addEventListener('change', (e) => {\n",
              "      resolve(e.target.files);\n",
              "    });\n",
              "  });\n",
              "\n",
              "  const cancel = document.createElement('button');\n",
              "  inputElement.parentElement.appendChild(cancel);\n",
              "  cancel.textContent = 'Cancel upload';\n",
              "  const cancelPromise = new Promise((resolve) => {\n",
              "    cancel.onclick = () => {\n",
              "      resolve(null);\n",
              "    };\n",
              "  });\n",
              "\n",
              "  // Wait for the user to pick the files.\n",
              "  const files = yield {\n",
              "    promise: Promise.race([pickedPromise, cancelPromise]),\n",
              "    response: {\n",
              "      action: 'starting',\n",
              "    }\n",
              "  };\n",
              "\n",
              "  cancel.remove();\n",
              "\n",
              "  // Disable the input element since further picks are not allowed.\n",
              "  inputElement.disabled = true;\n",
              "\n",
              "  if (!files) {\n",
              "    return {\n",
              "      response: {\n",
              "        action: 'complete',\n",
              "      }\n",
              "    };\n",
              "  }\n",
              "\n",
              "  for (const file of files) {\n",
              "    const li = document.createElement('li');\n",
              "    li.append(span(file.name, {fontWeight: 'bold'}));\n",
              "    li.append(span(\n",
              "        `(${file.type || 'n/a'}) - ${file.size} bytes, ` +\n",
              "        `last modified: ${\n",
              "            file.lastModifiedDate ? file.lastModifiedDate.toLocaleDateString() :\n",
              "                                    'n/a'} - `));\n",
              "    const percent = span('0% done');\n",
              "    li.appendChild(percent);\n",
              "\n",
              "    outputElement.appendChild(li);\n",
              "\n",
              "    const fileDataPromise = new Promise((resolve) => {\n",
              "      const reader = new FileReader();\n",
              "      reader.onload = (e) => {\n",
              "        resolve(e.target.result);\n",
              "      };\n",
              "      reader.readAsArrayBuffer(file);\n",
              "    });\n",
              "    // Wait for the data to be ready.\n",
              "    let fileData = yield {\n",
              "      promise: fileDataPromise,\n",
              "      response: {\n",
              "        action: 'continue',\n",
              "      }\n",
              "    };\n",
              "\n",
              "    // Use a chunked sending to avoid message size limits. See b/62115660.\n",
              "    let position = 0;\n",
              "    do {\n",
              "      const length = Math.min(fileData.byteLength - position, MAX_PAYLOAD_SIZE);\n",
              "      const chunk = new Uint8Array(fileData, position, length);\n",
              "      position += length;\n",
              "\n",
              "      const base64 = btoa(String.fromCharCode.apply(null, chunk));\n",
              "      yield {\n",
              "        response: {\n",
              "          action: 'append',\n",
              "          file: file.name,\n",
              "          data: base64,\n",
              "        },\n",
              "      };\n",
              "\n",
              "      let percentDone = fileData.byteLength === 0 ?\n",
              "          100 :\n",
              "          Math.round((position / fileData.byteLength) * 100);\n",
              "      percent.textContent = `${percentDone}% done`;\n",
              "\n",
              "    } while (position < fileData.byteLength);\n",
              "  }\n",
              "\n",
              "  // All done.\n",
              "  yield {\n",
              "    response: {\n",
              "      action: 'complete',\n",
              "    }\n",
              "  };\n",
              "}\n",
              "\n",
              "scope.google = scope.google || {};\n",
              "scope.google.colab = scope.google.colab || {};\n",
              "scope.google.colab._files = {\n",
              "  _uploadFiles,\n",
              "  _uploadFilesContinue,\n",
              "};\n",
              "})(self);\n",
              "</script> "
            ]
          },
          "metadata": {}
        },
        {
          "output_type": "stream",
          "name": "stdout",
          "text": [
            "Saving student.xlsx to student.xlsx\n"
          ]
        }
      ]
    },
    {
      "cell_type": "code",
      "source": [
        "from google.colab import drive\n",
        "drive.mount('/content/drive')"
      ],
      "metadata": {
        "colab": {
          "base_uri": "https://localhost:8080/"
        },
        "id": "4FUBj4qT3OZW",
        "outputId": "39e787b3-4de2-428f-a3de-71b56c56304e"
      },
      "execution_count": 13,
      "outputs": [
        {
          "output_type": "stream",
          "name": "stdout",
          "text": [
            "Drive already mounted at /content/drive; to attempt to forcibly remount, call drive.mount(\"/content/drive\", force_remount=True).\n"
          ]
        }
      ]
    },
    {
      "cell_type": "code",
      "source": [
        "!ls /content/drive/MyDrive"
      ],
      "metadata": {
        "colab": {
          "base_uri": "https://localhost:8080/"
        },
        "id": "dqgENuqr3cN-",
        "outputId": "1af87ab2-431a-4295-d951-3011eaf965cc"
      },
      "execution_count": 17,
      "outputs": [
        {
          "output_type": "stream",
          "name": "stdout",
          "text": [
            " 17092832078841116610736494759122.jpg\n",
            " 1709283420738972012487917988895.jpg\n",
            " 17092922200613142048420261379981.jpg\n",
            " 17092923867298163885942198100691.jpg\n",
            " 17092926187736480797218080996807.jpg\n",
            "'20240301_170046 (1).heic'\n",
            "'20240301_170046 (2).heic'\n",
            "'20240301_170046 (3).heic'\n",
            "'20240301_170046 (4).heic'\n",
            "'20240301_170046 (5).heic'\n",
            "'20240301_170046 (6).heic'\n",
            "'20240301_170046 (7).heic'\n",
            "'20240301_170046 (8).heic'\n",
            " 20240301_170046.heic\n",
            " 20241113_221223.heic\n",
            " APznzabFWcs-fjB6soN19esekJVfdA90VLkoH6h0RDxmUT2ZeAum8OgV4G2rXm80_yvtoGYMBQoHfSDA34sQ9bIxHcWgWBpty_LyU19kOH3OVPhktixEUnjXI-tvADVzi8FMAo6M6rTu1ksldxZcn-hy8oDnhgV1yP7tpyMditZNCDJJeyjWVQTWLrIzF4sHbnqq6AiOEvRjrkEXv9_2XbwEa94FA7EDObb2aY.pdf\n",
            " Classroom\n",
            "'Colab Notebooks'\n",
            "'Customer Relationship Management (1) (1).pdf'\n",
            "'Customer Relationship Management (1).pdf'\n",
            "'DRAWING 3.dwg'\n",
            " experiment1\n",
            " gouri\n",
            " GOURI\n",
            "'GOURI AUTOCAD FILE'\n",
            "'GOURI-KALYANKAR-Participant-Certificate (2) (1) (1).pdf'\n",
            "'GOURI-KALYANKAR-Participant-Certificate (2) (1).pdf'\n",
            "'GOURI-KALYANKAR-Participant-Certificate (2) (2).pdf'\n",
            "'GOURI-KALYANKAR-Participant-Certificate (2) (3) (1).pdf'\n",
            "'GOURI-KALYANKAR-Participant-Certificate (2) (3).pdf'\n",
            "'GOURI-KALYANKAR-Participant-Certificate (2) (4).pdf'\n",
            "'GOURI-KALYANKAR-Participant-Certificate (2) (5).pdf'\n",
            "'GOURI-KALYANKAR-Participant-Certificate (2).pdf'\n",
            "'GOURI-KALYANKAR-Participant-Certificate (3).pdf'\n",
            "'image (10).png'\n",
            "'image (11).png'\n",
            "'image (12).png'\n",
            "'image (13).png'\n",
            "'image (14).png'\n",
            "'image (15).png'\n",
            "'image (16).png'\n",
            "'image (18).png'\n",
            "'image (19).png'\n",
            "'image (1).png'\n",
            "'image (20).png'\n",
            "'image (21).png'\n",
            "'image (22).png'\n",
            "'image (2).png'\n",
            "'image (3).png'\n",
            "'image (4).png'\n",
            "'image (5).png'\n",
            "'image (7).png'\n",
            "'image (8).png'\n",
            "'image (9).png'\n",
            " image.png\n",
            " IMG-20240830-WA0010.jpg\n",
            "'kalyankar gouri'\n",
            " KalyankarGouri\n",
            "'Screenshot_20250206_220733_Chrome (1).jpg'\n",
            " Screenshot_20250206_220733_Chrome.jpg\n",
            " Screenshot_20250314_085516_PhonePe.jpg\n",
            "'Screenshot_20250314_085521_PhonePe (1).jpg'\n",
            " Screenshot_20250314_085521_PhonePe.jpg\n",
            " Screenshot_20250314_120936_Chrome.jpg\n",
            " Snapchat-1703730142.jpg\n",
            " Snapchat-344372428.jpg\n",
            " student.ann.pdf\n",
            "'Student_dataset (1).xlsx'\n",
            " student.xlsx\n",
            "'Unit3_IoT Application layer Protocols_Completed_13Mar25.gdoc'\n",
            "'Untitled form (1).gform'\n",
            "'Untitled form (2).gform'\n",
            "'Untitled form (3).gform'\n",
            "'Untitled form (File responses)'\n",
            "'Untitled form.gform'\n",
            "'Untitled form (Responses).gsheet'\n",
            " WEBSITE\n"
          ]
        }
      ]
    },
    {
      "cell_type": "code",
      "source": [
        "!ls \"/content/drive/MyDrive/student.xlsx\""
      ],
      "metadata": {
        "colab": {
          "base_uri": "https://localhost:8080/"
        },
        "id": "xvUE7MCt3hR1",
        "outputId": "41517475-2b0c-4fcd-f7e9-a80297d1f02a"
      },
      "execution_count": 18,
      "outputs": [
        {
          "output_type": "stream",
          "name": "stdout",
          "text": [
            "/content/drive/MyDrive/student.xlsx\n"
          ]
        }
      ]
    },
    {
      "cell_type": "code",
      "source": [
        "import numpy as np\n",
        "import pandas as pd\n",
        "\n",
        "# Creating a dataset\n",
        "df = pd.DataFrame(\n",
        "    [[8.5, 85, 88, 120, 1], [7.2, 78, 74, 110, 0], [9.1, 90, 92, 130, 1], [6.8, 70, 65, 105, 0]],\n",
        "    columns=['CGPA', '10th Score', '12th Score', 'IQ', 'Placement']\n",
        ")\n",
        "\n",
        "# Initializing parameters\n",
        "def initialize_parameters(layer_dims):\n",
        "    np.random.seed(3)\n",
        "    print(\"Layer dimensions:\", layer_dims)\n",
        "    parameters = {}\n",
        "    L = len(layer_dims)\n",
        "    print(\"Total no. of layers in neural network:\", L)\n",
        "    for i in range(1, L):\n",
        "        parameters['W' + str(i)] = np.ones((layer_dims[i], layer_dims[i-1])) * 0.1\n",
        "        parameters['b' + str(i)] = np.zeros((layer_dims[i], 1))\n",
        "    return parameters"
      ],
      "metadata": {
        "id": "kaRG6Y1b3te1"
      },
      "execution_count": 8,
      "outputs": []
    },
    {
      "cell_type": "code",
      "source": [
        "# Forward propagation\n",
        "def linear_forward(A_prev, W, b):\n",
        "    Z = np.dot(W, A_prev) + b\n",
        "    cache = (A_prev, W, b)\n",
        "    return Z, cache\n",
        "\n",
        "def relu(Z):\n",
        "    return np.maximum(0, Z)\n",
        "\n",
        "def l_layer_forward(X, parameters):\n",
        "    A = X\n",
        "    caches = []\n",
        "    L = len(parameters) // 2\n",
        "    for i in range(1, L):\n",
        "        A_prev = A\n",
        "        W = parameters['W' + str(i)]\n",
        "        b = parameters['b' + str(i)]\n",
        "        Z, cache = linear_forward(A_prev, W, b)\n",
        "        A = relu(Z)\n",
        "        caches.append(cache)\n",
        "\n",
        "    # Output layer\n",
        "    W_out = parameters['W' + str(L)]\n",
        "    b_out = parameters['b' + str(L)]\n",
        "    Z_out, cache_out = linear_forward(A, W_out, b_out)\n",
        "    AL = Z_out\n",
        "    caches.append(cache_out)\n",
        "\n",
        "    return AL, caches\n",
        "\n",
        "# Example execution\n",
        "X = df[['CGPA', '10th Score']].values[0].reshape(2, 1)\n",
        "parameters = initialize_parameters([2, 2, 1])\n",
        "y_hat, caches = l_layer_forward(X, parameters)\n",
        "print(\"Final output:\")\n",
        "print(y_hat)"
      ],
      "metadata": {
        "colab": {
          "base_uri": "https://localhost:8080/"
        },
        "id": "9zutKdrl4HuV",
        "outputId": "fa29f48e-b915-494e-a21c-0f6f2a42d879"
      },
      "execution_count": 9,
      "outputs": [
        {
          "output_type": "stream",
          "name": "stdout",
          "text": [
            "Layer dimensions: [2, 2, 1]\n",
            "Total no. of layers in neural network: 3\n",
            "Final output:\n",
            "[[1.87]]\n"
          ]
        }
      ]
    }
  ]
}